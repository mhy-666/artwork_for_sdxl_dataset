{
 "cells": [
  {
   "cell_type": "code",
   "execution_count": null,
   "metadata": {},
   "outputs": [],
   "source": []
  },
  {
   "cell_type": "code",
   "execution_count": null,
   "metadata": {},
   "outputs": [],
   "source": [
    "import time\n",
    "from selenium import webdriver\n",
    "from selenium.webdriver.common.keys import Keys\n",
    "from bs4 import BeautifulSoup\n",
    "import requests\n",
    "\n",
    "# start a new browser\n",
    "driver = webdriver.Chrome()\n",
    "\n",
    "driver.get(\"https://artsandculture.google.com/asset/spring-mist-over-jiangnan/5gHOtlkvPGKffg\")\n",
    "\n",
    "# watting for the page to load\n",
    "time.sleep(5)\n",
    "\n",
    "image_urls = []\n",
    "for i in range(50):\n",
    "    # get the page source\n",
    "    html = driver.page_source\n",
    "    soup = BeautifulSoup(html, 'html.parser')\n",
    "\n",
    "    # from the page source, find the image url\n",
    "    noscript_tag = soup.find('noscript')\n",
    "    if noscript_tag:\n",
    "        img_url = noscript_tag.find('img')['src']\n",
    "        image_urls.append(img_url)\n",
    "\n",
    "    # click the next button\n",
    "    next_button = driver.find_element_by_css_selector(\"div[jsname='wXyEJc'][role='button'][aria-label='Next']\")\n",
    "    next_button.click()\n",
    "    time.sleep(2)\n",
    "\n",
    "# close the browser\n",
    "driver.quit()\n",
    "\n",
    "# download the images\n",
    "for i, url in enumerate(image_urls):\n",
    "    response = requests.get(url)\n",
    "    with open(f\"image_{i+1}.jpg\", \"wb\") as f:\n",
    "        f.write(response.content)"
   ]
  },
  {
   "cell_type": "code",
   "execution_count": null,
   "metadata": {},
   "outputs": [],
   "source": []
  }
 ],
 "metadata": {
  "kernelspec": {
   "display_name": "Python 3",
   "language": "python",
   "name": "python3"
  },
  "language_info": {
   "codemirror_mode": {
    "name": "ipython",
    "version": 3
   },
   "file_extension": ".py",
   "mimetype": "text/x-python",
   "name": "python",
   "nbconvert_exporter": "python",
   "pygments_lexer": "ipython3",
   "version": "3.undefined.undefined"
  }
 },
 "nbformat": 4,
 "nbformat_minor": 2
}
